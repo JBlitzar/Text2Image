{
 "cells": [
  {
   "cell_type": "code",
   "execution_count": 14,
   "metadata": {},
   "outputs": [],
   "source": [
    "from datasets import load_dataset\n",
    "\n",
    "flowers = load_dataset(\"pranked03/flowers-blip-captions\")"
   ]
  },
  {
   "cell_type": "code",
   "execution_count": 15,
   "metadata": {},
   "outputs": [
    {
     "data": {
      "text/plain": [
       "DatasetDict({\n",
       "    train: Dataset({\n",
       "        features: ['image', 'label', 'text'],\n",
       "        num_rows: 6552\n",
       "    })\n",
       "})"
      ]
     },
     "execution_count": 15,
     "metadata": {},
     "output_type": "execute_result"
    }
   ],
   "source": [
    "flowers"
   ]
  },
  {
   "cell_type": "code",
   "execution_count": 16,
   "metadata": {},
   "outputs": [],
   "source": [
    "birds = load_dataset(\"anjunhu/naively_captioned_CUB2002011_test_20shot\")"
   ]
  },
  {
   "cell_type": "code",
   "execution_count": 17,
   "metadata": {},
   "outputs": [],
   "source": [
    "flowers.set_format(type=\"torch\", columns=[\"text\", \"image\"])\n",
    "birds.set_format(type=\"torch\", columns=[\"text\", \"image\"])"
   ]
  },
  {
   "cell_type": "code",
   "execution_count": 18,
   "metadata": {},
   "outputs": [],
   "source": [
    "flowers = flowers[\"train\"]\n",
    "birds = birds[\"train\"]"
   ]
  },
  {
   "cell_type": "code",
   "execution_count": 19,
   "metadata": {},
   "outputs": [],
   "source": [
    "import torch"
   ]
  },
  {
   "cell_type": "code",
   "execution_count": 20,
   "metadata": {},
   "outputs": [],
   "source": [
    "dl = torch.utils.data.DataLoader(birds, batch_size=1)"
   ]
  },
  {
   "cell_type": "code",
   "execution_count": 22,
   "metadata": {},
   "outputs": [
    {
     "name": "stdout",
     "output_type": "stream",
     "text": [
      "(['A photo of a kentucky warbler'], tensor([[[[  0,   0,   0,  ...,  13,  11,   9],\n",
      "          [  0,   0,  15,  ...,  11,  11,  22],\n",
      "          [  0,  10,  90,  ..., 102,  22,   8],\n",
      "          ...,\n",
      "          [  0,   0, 111,  ..., 111,  20,   9],\n",
      "          [  1,   0,  11,  ...,  14,   6,  23],\n",
      "          [  0,   7,   4,  ...,  10,  11,  15]],\n",
      "\n",
      "         [[ 10,   3,   1,  ...,   5,   3,   1],\n",
      "          [  5,   0,  15,  ...,   0,   1,  12],\n",
      "          [  0,  10,  85,  ...,  89,  10,   0],\n",
      "          ...,\n",
      "          [  3,   1, 111,  ..., 104,  13,   2],\n",
      "          [ 10,   2,  16,  ...,   8,   0,  17],\n",
      "          [  9,  15,   8,  ...,   6,   7,  11]],\n",
      "\n",
      "         [[ 36,  25,  16,  ...,   0,   0,   0],\n",
      "          [ 27,  18,  27,  ...,   0,   0,  10],\n",
      "          [ 14,  22,  89,  ...,  70,   0,   0],\n",
      "          ...,\n",
      "          [  0,   0, 103,  ...,  85,   0,   0],\n",
      "          [  9,   2,  12,  ...,   0,   0,   5],\n",
      "          [ 11,  17,   9,  ...,   0,   0,   0]]]], dtype=torch.uint8))\n",
      "torch.Size([1, 3, 375, 500])\n",
      "['A photo of a kentucky warbler']\n"
     ]
    }
   ],
   "source": [
    "for batch in dl:\n",
    "    batch = tuple([batch[k] for k in batch.keys()])\n",
    "    print(batch)\n",
    "    text,image = batch\n",
    "    print(image.shape)\n",
    "    print(text)\n",
    "    break"
   ]
  },
  {
   "cell_type": "code",
   "execution_count": null,
   "metadata": {},
   "outputs": [],
   "source": []
  }
 ],
 "metadata": {
  "kernelspec": {
   "display_name": "base",
   "language": "python",
   "name": "python3"
  },
  "language_info": {
   "codemirror_mode": {
    "name": "ipython",
    "version": 3
   },
   "file_extension": ".py",
   "mimetype": "text/x-python",
   "name": "python",
   "nbconvert_exporter": "python",
   "pygments_lexer": "ipython3",
   "version": "3.11.5"
  }
 },
 "nbformat": 4,
 "nbformat_minor": 2
}
